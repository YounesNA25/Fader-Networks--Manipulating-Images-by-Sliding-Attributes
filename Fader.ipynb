{
 "cells": [
  {
   "cell_type": "code",
   "execution_count": null,
   "metadata": {},
   "outputs": [],
   "source": [
    "import os\n",
    "import zipfile \n",
    "import gdown\n",
    "from tqdm import tqdm\n",
    "\n",
    "\n",
    "\n",
    "\n",
    "## Fetch data from Google Drive \n",
    "# Root directory for the dataset\n",
    "data_root = 'dataset'\n",
    "# Path to folder with the dataset\n",
    "dataset_folder = f'{data_root}/img_align_celeba'\n",
    "# URL for the CelebA dataset\n",
    "url1 = 'https://drive.google.com/uc?id=0B7EVK8r0v71pZjFTYXZWM3FlRnM'\n",
    "url2 = 'https://drive.google.com/uc?id=1mcqEu1vN1BUQ8IkEqXd3f54eaVxQsLIO'\n",
    "# Path to download the dataset to\n",
    "download_path1 = f'{data_root}/img_align_celeba.zip'\n",
    "download_path2 = f'{data_root}/list_attr_celeba.csv'\n",
    "# Create required directories \n",
    "if not os.path.exists(data_root):\n",
    "  os.makedirs(data_root)\n",
    "  os.makedirs(dataset_folder)\n",
    "\n",
    "# Download the dataset from google drive\n",
    "if not os.path.exists(download_path1):\n",
    "  gdown.download(url1, download_path1, quiet=False)\n",
    "if not os.path.exists(download_path2):\n",
    "  gdown.download(url2, download_path2, quiet=False)\n",
    "\n",
    "\n",
    "with zipfile.ZipFile(download_path1, 'r') as ziphandler:\n",
    "    for file in tqdm(ziphandler.namelist(), desc='Extraction du fichier'):\n",
    "        ziphandler.extract(file, dataset_folder)"
   ]
  },
  {
   "cell_type": "markdown",
   "metadata": {},
   "source": [
    "## Test Preprocess\n"
   ]
  },
  {
   "cell_type": "code",
   "execution_count": null,
   "metadata": {},
   "outputs": [],
   "source": [
    "!python PreProcess.py --root-images \"./dataset/img_align_celeba/img_align_celeba\" --root-attributes \"./dataset/list_attr_celeba.csv\"\n",
    "# ou lance directement la commande dans le terminal << python PreProcess.py --root-images \"./dataset/img_align_celeba/img_align_celeba\" --root-attributes \"./dataset/list_attr_celeba.csv\" >>"
   ]
  },
  {
   "cell_type": "markdown",
   "metadata": {},
   "source": [
    "## Test data.py"
   ]
  },
  {
   "cell_type": "code",
   "execution_count": null,
   "metadata": {},
   "outputs": [],
   "source": [
    "from data import Datasets\n",
    "\n",
    "\n",
    "dataset = Datasets(root_images=\"archive/img_align_celeba/img_align_celeba/\",root_atributes=\"archive/list_attr_celeba.csv\")"
   ]
  },
  {
   "cell_type": "code",
   "execution_count": null,
   "metadata": {},
   "outputs": [],
   "source": [
    "data_image, attributes = dataset[0]"
   ]
  },
  {
   "cell_type": "code",
   "execution_count": null,
   "metadata": {},
   "outputs": [],
   "source": [
    "data_image.shape"
   ]
  },
  {
   "cell_type": "code",
   "execution_count": null,
   "metadata": {},
   "outputs": [],
   "source": [
    "from skimage import io\n",
    "\n",
    "# Afficher l'image\n",
    "io.imshow(data_image.permute(1, 2, 0).numpy())\n",
    "\n",
    "# Attendre que l'utilisateur ferme la fenêtre\n",
    "io.show()"
   ]
  },
  {
   "cell_type": "code",
   "execution_count": null,
   "metadata": {},
   "outputs": [],
   "source": []
  }
 ],
 "metadata": {
  "kernelspec": {
   "display_name": ".venv",
   "language": "python",
   "name": "python3"
  },
  "language_info": {
   "codemirror_mode": {
    "name": "ipython",
    "version": 3
   },
   "file_extension": ".py",
   "mimetype": "text/x-python",
   "name": "python",
   "nbconvert_exporter": "python",
   "pygments_lexer": "ipython3",
   "version": "3.11.4"
  }
 },
 "nbformat": 4,
 "nbformat_minor": 2
}
